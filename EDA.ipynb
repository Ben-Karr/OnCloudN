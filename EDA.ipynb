{
 "cells": [
  {
   "cell_type": "code",
   "execution_count": 2,
   "id": "72ce4061",
   "metadata": {},
   "outputs": [],
   "source": [
    "from fastai.vision.all import *"
   ]
  },
  {
   "cell_type": "code",
   "execution_count": 3,
   "id": "aaa90475",
   "metadata": {},
   "outputs": [],
   "source": [
    "img_path = Path('data/train_features/')\n",
    "mask_path = Path('data/train_labels/')"
   ]
  },
  {
   "cell_type": "code",
   "execution_count": 4,
   "id": "301c9d22",
   "metadata": {},
   "outputs": [],
   "source": [
    "class TensorImageMultiband(TensorBase):\n",
    "    _show_args = ArrayImageBase._show_args\n",
    "    def show(self, ctx=None, **kwargs):\n",
    "        return show_image(self, ctx=ctx, **{**self._show_args, **kwargs})"
   ]
  },
  {
   "cell_type": "code",
   "execution_count": null,
   "id": "3f87e231",
   "metadata": {},
   "outputs": [],
   "source": [
    "TensorImageMultiband"
   ]
  },
  {
   "cell_type": "code",
   "execution_count": 45,
   "id": "357f3f69",
   "metadata": {},
   "outputs": [],
   "source": [
    "db = DataBlock(\n",
    "    blocks=(ImageBlock),\n",
    "    get_items=get_image_files\n",
    ")"
   ]
  },
  {
   "cell_type": "code",
   "execution_count": 46,
   "id": "8f20e728",
   "metadata": {},
   "outputs": [],
   "source": [
    "ds = db.datasets(img_path)"
   ]
  },
  {
   "cell_type": "code",
   "execution_count": 47,
   "id": "76ba7fa1",
   "metadata": {},
   "outputs": [],
   "source": [
    "item = ds[2][0]"
   ]
  },
  {
   "cell_type": "code",
   "execution_count": 48,
   "id": "58369d1c",
   "metadata": {},
   "outputs": [],
   "source": [
    "files = get_image_files(img_path)\n",
    "fn = files[0]"
   ]
  },
  {
   "cell_type": "code",
   "execution_count": 49,
   "id": "ed16c5df",
   "metadata": {},
   "outputs": [
    {
     "data": {
      "text/plain": [
       "False"
      ]
     },
     "execution_count": 49,
     "metadata": {},
     "output_type": "execute_result"
    }
   ],
   "source": [
    "isinstance(PILImage.create(fn), TensorImage)"
   ]
  },
  {
   "cell_type": "code",
   "execution_count": 50,
   "id": "7132be6e",
   "metadata": {},
   "outputs": [
    {
     "data": {
      "text/plain": [
       "False"
      ]
     },
     "execution_count": 50,
     "metadata": {},
     "output_type": "execute_result"
    }
   ],
   "source": [
    "isinstance(item, TensorImage)"
   ]
  }
 ],
 "metadata": {
  "kernelspec": {
   "display_name": "fastai",
   "language": "python",
   "name": "fastai"
  },
  "language_info": {
   "codemirror_mode": {
    "name": "ipython",
    "version": 3
   },
   "file_extension": ".py",
   "mimetype": "text/x-python",
   "name": "python",
   "nbconvert_exporter": "python",
   "pygments_lexer": "ipython3",
   "version": "3.8.8"
  }
 },
 "nbformat": 4,
 "nbformat_minor": 5
}
