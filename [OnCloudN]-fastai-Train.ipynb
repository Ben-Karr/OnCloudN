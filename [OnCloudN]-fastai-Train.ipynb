{
 "cells": [
  {
   "cell_type": "code",
   "execution_count": 15,
   "id": "b0dd080c",
   "metadata": {},
   "outputs": [],
   "source": [
    "from fastai.vision.all import *\n",
    "from tqdm import tqdm\n",
    "from torch.utils.data import Dataset"
   ]
  },
  {
   "cell_type": "code",
   "execution_count": 2,
   "id": "50b10f69",
   "metadata": {},
   "outputs": [],
   "source": [
    "DATA_PATH = Path('data')\n",
    "TRAIN_PATH = DATA_PATH / 'train_features'\n",
    "LABEL_PATH = DATA_PATH / 'train_labels'"
   ]
  },
  {
   "cell_type": "code",
   "execution_count": 3,
   "id": "3c78f441",
   "metadata": {},
   "outputs": [],
   "source": [
    "df = pd.read_csv(DATA_PATH / 'train_ready.csv')"
   ]
  },
  {
   "cell_type": "code",
   "execution_count": 4,
   "id": "65bb81f8",
   "metadata": {
    "scrolled": true
   },
   "outputs": [
    {
     "data": {
      "text/html": [
       "<div>\n",
       "<style scoped>\n",
       "    .dataframe tbody tr th:only-of-type {\n",
       "        vertical-align: middle;\n",
       "    }\n",
       "\n",
       "    .dataframe tbody tr th {\n",
       "        vertical-align: top;\n",
       "    }\n",
       "\n",
       "    .dataframe thead th {\n",
       "        text-align: right;\n",
       "    }\n",
       "</style>\n",
       "<table border=\"1\" class=\"dataframe\">\n",
       "  <thead>\n",
       "    <tr style=\"text-align: right;\">\n",
       "      <th></th>\n",
       "      <th>chip_id</th>\n",
       "      <th>location</th>\n",
       "      <th>datetime</th>\n",
       "      <th>cloudpath</th>\n",
       "      <th>is_valid</th>\n",
       "      <th>B02_path</th>\n",
       "      <th>B03_path</th>\n",
       "      <th>B04_path</th>\n",
       "      <th>B08_path</th>\n",
       "      <th>label_path</th>\n",
       "    </tr>\n",
       "  </thead>\n",
       "  <tbody>\n",
       "    <tr>\n",
       "      <th>0</th>\n",
       "      <td>adwp</td>\n",
       "      <td>Chifunfu</td>\n",
       "      <td>2020-04-29T08:20:47Z</td>\n",
       "      <td>az://./train_features/adwp</td>\n",
       "      <td>False</td>\n",
       "      <td>data/train_features/adwp/B02.tif</td>\n",
       "      <td>data/train_features/adwp/B03.tif</td>\n",
       "      <td>data/train_features/adwp/B04.tif</td>\n",
       "      <td>data/train_features/adwp/B08.tif</td>\n",
       "      <td>data/train_labels/adwp.tif</td>\n",
       "    </tr>\n",
       "  </tbody>\n",
       "</table>\n",
       "</div>"
      ],
      "text/plain": [
       "  chip_id  location              datetime                   cloudpath  \\\n",
       "0    adwp  Chifunfu  2020-04-29T08:20:47Z  az://./train_features/adwp   \n",
       "\n",
       "   is_valid                          B02_path  \\\n",
       "0     False  data/train_features/adwp/B02.tif   \n",
       "\n",
       "                           B03_path                          B04_path  \\\n",
       "0  data/train_features/adwp/B03.tif  data/train_features/adwp/B04.tif   \n",
       "\n",
       "                           B08_path                  label_path  \n",
       "0  data/train_features/adwp/B08.tif  data/train_labels/adwp.tif  "
      ]
     },
     "execution_count": 4,
     "metadata": {},
     "output_type": "execute_result"
    }
   ],
   "source": [
    "df.head(1)"
   ]
  },
  {
   "cell_type": "code",
   "execution_count": 5,
   "id": "c42faabd",
   "metadata": {},
   "outputs": [],
   "source": [
    "IMG_SIZE = 512\n",
    "BS = 3"
   ]
  },
  {
   "cell_type": "code",
   "execution_count": 7,
   "id": "5159139c",
   "metadata": {},
   "outputs": [],
   "source": [
    "def get_array(chip, band):\n",
    "    fn = (TRAIN_PATH / chip /band).with_suffix('.tif')\n",
    "    if fn.exists():\n",
    "        return (np.array(Image.open(fn)) / 27000)\n",
    "    else:\n",
    "        return np.zeros((512, 512))\n",
    "\n",
    "def get_4chan(chip_folder):\n",
    "    blue  = get_array(chip_folder, 'B02')\n",
    "    green = get_array(chip_folder, 'B03')\n",
    "    red   = get_array(chip_folder, 'B04')\n",
    "    infra = get_array(chip_folder, 'B08')\n",
    "    \n",
    "    stack = np.stack([blue, green, red, infra], axis = -1) \n",
    "    return stack\n",
    "\n",
    "def get_mask(chip):\n",
    "    fn = (LABEL_PATH / chip).with_suffix('.tif')\n",
    "    return tensor(np.array(Image.open(fn))).long()\n",
    "\n",
    "def get_chips(path):\n",
    "    potential_chips = list(path.iterdir())\n",
    "    chips_paths = L(chip for chip in potential_chips if chip.is_dir())\n",
    "    return chips_paths.attrgot('name')\n",
    "\n",
    "def is_valid(chip):\n",
    "    return df.loc[df['chip_id'] == chip, 'is_valid'].item()"
   ]
  },
  {
   "cell_type": "markdown",
   "id": "bb9c699f",
   "metadata": {},
   "source": [
    "---\n",
    "## <Datasets\n",
    "---"
   ]
  },
  {
   "cell_type": "code",
   "execution_count": 28,
   "id": "443b8ded",
   "metadata": {},
   "outputs": [
    {
     "data": {
      "text/plain": [
       "{2, 3}"
      ]
     },
     "execution_count": 28,
     "metadata": {},
     "output_type": "execute_result"
    }
   ],
   "source": [
    "set([1,2,3]).intersection(set([2,3,4]))"
   ]
  },
  {
   "cell_type": "code",
   "execution_count": 29,
   "id": "13299b47",
   "metadata": {},
   "outputs": [],
   "source": [
    "class Chips:\n",
    "    def __init__(self, src_path, df):\n",
    "        self.src_path = src_path\n",
    "        self.names = self.get_chips(src_path)\n",
    "        self.df = df\n",
    "        self.train_idx = self.names.argwhere(self.is_valid, negate = True)\n",
    "        self.valid_idx = self.names.argwhere(self.is_valid)\n",
    "        assert(len(self.train_idx) + len(self.valid_idx) == len(self.names))\n",
    "        assert(len(set(self.train_idx).intersection(set(self.valid_idx))) == 0)\n",
    "    \n",
    "    def is_valid(self, chip):\n",
    "        return self.df.loc[self.df['chip_id'] == chip, 'is_valid'].item()\n",
    "    \n",
    "    @staticmethod\n",
    "    def get_chips(path):\n",
    "        potential_chips = list(path.iterdir())\n",
    "        chips_paths = L(chip for chip in potential_chips if chip.is_dir())\n",
    "        return chips_paths.attrgot('name')\n",
    "    \n",
    "    def describe(self):\n",
    "        print(f'Number of validation items: {len(self.valid_idx)}, number of training items: {len(self.train_idx)}\\nTotal number of items: {len(self.names)}')\n",
    "        \n",
    "    def get_train_chips(self):\n",
    "        return self.names[self.train_idx]\n",
    "    \n",
    "    def get_valid_chips(self):\n",
    "        return self.names[self.valid_idx]"
   ]
  },
  {
   "cell_type": "code",
   "execution_count": 30,
   "id": "9e18bfd8",
   "metadata": {},
   "outputs": [
    {
     "name": "stdout",
     "output_type": "stream",
     "text": [
      "Number of validation items: 2442, number of training items: 9306\n",
      "Total number of items: 11748\n"
     ]
    }
   ],
   "source": [
    "chips = Chips(TRAIN_PATH, df)\n",
    "chips.describe()"
   ]
  },
  {
   "cell_type": "code",
   "execution_count": 16,
   "id": "87b190bf",
   "metadata": {},
   "outputs": [],
   "source": [
    "class multi_channel_ds(Dataset):\n",
    "    def __init__(self, \n",
    "                 features_path,\n",
    "                 labels_path,\n",
    "                 chips, \n",
    "                 n_channels, \n",
    "                 img_transforms=None, \n",
    "                 mask_transforms=None\n",
    "                ):\n",
    "        self.features_path = features_path\n",
    "        self.labels_path  = labels_path\n",
    "        self.files = chips\n",
    "        self.df = df\n",
    "        self.n_channels = n_channels\n",
    "        self.img_transforms = img_transforms\n",
    "        self.mask_transforms = mask_transforms\n",
    "        \n",
    "    def __len__(self):\n",
    "        return len(self.files)\n",
    "    \n",
    "    def __getitem__(self, idx):\n",
    "        chip = self.files[idx]\n",
    "        img = tensor(self.get_4chan(chip)).float()\n",
    "        mask = tensor(self.get_mask(chip)).long()\n",
    "        return img, mask\n",
    "      \n",
    "    def get_array(self, chip, band):\n",
    "        fn = (self.train_path / chip / band).with_suffix('.tif')\n",
    "        if fn.exists():\n",
    "            return (np.array(Image.open(fn)) / 27000)\n",
    "        else:\n",
    "            return np.zeros((512, 512))\n",
    "    \n",
    "    @staticmethod\n",
    "    def get_4chan(chip):\n",
    "        blue  = get_array(chip, 'B02')\n",
    "        green = get_array(chip, 'B03')\n",
    "        red   = get_array(chip, 'B04')\n",
    "        infra = get_array(chip, 'B08')\n",
    "\n",
    "        stack = np.stack([blue, green, red, infra], axis = 0) ## to -1 if transforms are expectod\n",
    "        return stack\n",
    "    \n",
    "    def get_mask(self, chip):\n",
    "        fn = (self.labels_path / chip).with_suffix('.tif')\n",
    "        return np.array(Image.open(fn))\n",
    "    \n",
    "    @staticmethod\n",
    "    def get_chips(path):\n",
    "        potential_chips = list(path.iterdir())\n",
    "        chips_paths = L(chip for chip in potential_chips if chip.is_dir())\n",
    "        return chips_paths.attrgot('name')"
   ]
  },
  {
   "cell_type": "code",
   "execution_count": 24,
   "id": "0e36caf8",
   "metadata": {},
   "outputs": [],
   "source": [
    "train_ds = multi_channel_ds(\n",
    "    features_path = TRAIN_PATH, \n",
    "    labels_path = LABEL_PATH, \n",
    "    chips = chips.get_train_chips(),\n",
    "    n_channels = 4\n",
    ")\n",
    "\n",
    "valid_ds = multi_channel_ds(\n",
    "    features_path = TRAIN_PATH,\n",
    "    labels_path = LABEL_PATH,\n",
    "    chips = chips.get_valid_chips(),\n",
    "    n_channels = 4\n",
    ")"
   ]
  },
  {
   "cell_type": "code",
   "execution_count": 31,
   "id": "aa65890b",
   "metadata": {},
   "outputs": [],
   "source": [
    "train_dl = DataLoader(train_ds, batch_size = BS, shuffle = True, num_workers = 6, pin_memory = True)\n",
    "valid_dl = DataLoader(valid_ds, batch_size = BS, shuffle = False, num_workers = 6, pin_memory = True)"
   ]
  },
  {
   "cell_type": "code",
   "execution_count": 32,
   "id": "862dc6ce",
   "metadata": {},
   "outputs": [],
   "source": [
    "dls = DataLoaders(train_dl, valid_dl)"
   ]
  },
  {
   "cell_type": "code",
   "execution_count": 33,
   "id": "4e57a455",
   "metadata": {},
   "outputs": [
    {
     "name": "stdout",
     "output_type": "stream",
     "text": [
      "torch.Size([3, 4, 512, 512]) torch.Size([3, 512, 512])\n"
     ]
    }
   ],
   "source": [
    "b = dls.one_batch()\n",
    "print(b[0].shape, b[1].shape)"
   ]
  },
  {
   "cell_type": "markdown",
   "id": "074953dc",
   "metadata": {},
   "source": [
    "---\n",
    "## Datasets>\n",
    "---\n",
    "## <Transformations\n",
    "---"
   ]
  },
  {
   "cell_type": "markdown",
   "id": "8d19dbca",
   "metadata": {},
   "source": [
    "---\n",
    "## Transformations>\n",
    "---\n",
    "## <DataLoaders"
   ]
  },
  {
   "cell_type": "code",
   "execution_count": null,
   "id": "e88f55a7",
   "metadata": {},
   "outputs": [],
   "source": [
    "#class EmptyBlock(TransformBlock):\n",
    "#    def __init__(self, type_tfms=None, item_tfms=None, batch_tfms=None, dl_type=None, dls_kwargs=None):\n",
    "#        super().__init__(type_tfms=type_tfms, item_tfms=item_tfms, batch_tfms=batch_tfms, dl_type=dl_type, dls_kwargs=dls_kwargs)\n",
    "#        self.item_tfms = L(item_tfms)\n",
    "#        \n",
    "#Simple4Chan = EmptyBlock(type_tfms = get_4chan)\n",
    "#FourChanImageBlock = TransformBlock(type_tfms = get_4chan, batch_tfms = IntToFloatTensor)\n",
    "#\n",
    "#db = DataBlock(\n",
    "#    blocks = (FourChanImageBlock, MaskBlock),\n",
    "#    get_x = ColReader('chip_id', pref = img_path),\n",
    "#    get_y = ColReader('label_path'),\n",
    "#    splitter = ColSplitter(),\n",
    "#    #item_tfms = Resize(IMG_SIZE),\n",
    "#    batch_tfms = setup_aug_tfms([#Rotate(), \n",
    "#                                 RandomResizedCropGPU(IMG_SIZE, min_scale = 0.3), \n",
    "#    #                             #Brightness(0.3), \n",
    "#    #                             #Contrast(0.3), \n",
    "#    #                             #Hue(), \n",
    "#    #                             #Saturation(0.3)\n",
    "#                                ])\n",
    "#)\n",
    "#\n",
    "#dls = db.dataloaders(df, bs = 3)\n",
    "#\n",
    "#dls.show_batch()"
   ]
  },
  {
   "cell_type": "code",
   "execution_count": 34,
   "id": "e378ec1c",
   "metadata": {},
   "outputs": [],
   "source": [
    "img_size = dls.one_batch()[0].shape[-2:]\n",
    "\n",
    "model = create_unet_model(\n",
    "    arch = resnet34,\n",
    "    n_out = 2,\n",
    "    img_size = img_size,\n",
    "    n_in = dls.n_channels\n",
    ")\n",
    "\n",
    "_default_meta    = {'cut':None, 'split':default_split}\n",
    "meta = model_meta.get(resnet34, _default_meta)\n",
    "\n",
    "learn = Learner(\n",
    "    dls,\n",
    "    model,\n",
    "    loss_func = CrossEntropyLossFlat(axis = 1),\n",
    "    metrics = [Dice, JaccardCoeff],\n",
    "    splitter = meta['split']\n",
    ")\n",
    "\n",
    "learn.freeze()"
   ]
  },
  {
   "cell_type": "markdown",
   "id": "e7ff7334",
   "metadata": {},
   "source": [
    "---"
   ]
  },
  {
   "cell_type": "code",
   "execution_count": 35,
   "id": "f101c1a6",
   "metadata": {},
   "outputs": [
    {
     "data": {
      "text/html": [],
      "text/plain": [
       "<IPython.core.display.HTML object>"
      ]
     },
     "metadata": {},
     "output_type": "display_data"
    },
    {
     "data": {
      "text/plain": [
       "SuggestedLRs(valley=0.0003311311302240938)"
      ]
     },
     "execution_count": 35,
     "metadata": {},
     "output_type": "execute_result"
    },
    {
     "data": {
      "image/png": "[encoded data removed]",
      "text/plain": [
       "<Figure size 432x288 with 1 Axes>"
      ]
     },
     "metadata": {
      "needs_background": "light"
     },
     "output_type": "display_data"
    }
   ],
   "source": [
    "learn.lr_find()"
   ]
  },
  {
   "cell_type": "code",
   "execution_count": null,
   "id": "50308578",
   "metadata": {},
   "outputs": [],
   "source": [
    "learn.fine_tune(5, 1e-4)"
   ]
  },
  {
   "cell_type": "code",
   "execution_count": null,
   "id": "e6407c57",
   "metadata": {},
   "outputs": [],
   "source": [
    "#result_metric = None\n",
    "#learn.export(f'res34_{IMG_SIZE}_j{result_metric}')"
   ]
  }
 ],
 "metadata": {
  "kernelspec": {
   "display_name": "fastai",
   "language": "python",
   "name": "fastai"
  },
  "language_info": {
   "codemirror_mode": {
    "name": "ipython",
    "version": 3
   },
   "file_extension": ".py",
   "mimetype": "text/x-python",
   "name": "python",
   "nbconvert_exporter": "python",
   "pygments_lexer": "ipython3",
   "version": "3.8.8"
  }
 },
 "nbformat": 4,
 "nbformat_minor": 5
}
