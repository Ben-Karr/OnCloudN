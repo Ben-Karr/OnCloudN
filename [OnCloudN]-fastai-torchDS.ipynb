{
 "cells": [
  {
   "cell_type": "code",
   "execution_count": 1,
   "id": "b0dd080c",
   "metadata": {},
   "outputs": [],
   "source": [
    "from fastai.vision.all import *\n",
    "from tqdm import tqdm\n",
    "import albumentations as A\n",
    "from albumentations import functional as F"
   ]
  },
  {
   "cell_type": "code",
   "execution_count": 2,
   "id": "3cf27b37",
   "metadata": {},
   "outputs": [],
   "source": [
    "import torch\n",
    "torch.backends.cudnn.benchmark = True"
   ]
  },
  {
   "cell_type": "code",
   "execution_count": 3,
   "id": "50b10f69",
   "metadata": {},
   "outputs": [],
   "source": [
    "DATA_PATH = Path('data')\n",
    "TRAIN_PATH = DATA_PATH / 'train_features'\n",
    "LABEL_PATH = DATA_PATH / 'train_labels'"
   ]
  },
  {
   "cell_type": "code",
   "execution_count": 4,
   "id": "3c78f441",
   "metadata": {},
   "outputs": [
    {
     "data": {
      "text/html": [
       "<div>\n",
       "<style scoped>\n",
       "    .dataframe tbody tr th:only-of-type {\n",
       "        vertical-align: middle;\n",
       "    }\n",
       "\n",
       "    .dataframe tbody tr th {\n",
       "        vertical-align: top;\n",
       "    }\n",
       "\n",
       "    .dataframe thead th {\n",
       "        text-align: right;\n",
       "    }\n",
       "</style>\n",
       "<table border=\"1\" class=\"dataframe\">\n",
       "  <thead>\n",
       "    <tr style=\"text-align: right;\">\n",
       "      <th></th>\n",
       "      <th>chip_id</th>\n",
       "      <th>location</th>\n",
       "      <th>datetime</th>\n",
       "      <th>cloudpath</th>\n",
       "      <th>is_valid</th>\n",
       "      <th>B02_path</th>\n",
       "      <th>B03_path</th>\n",
       "      <th>B04_path</th>\n",
       "      <th>B08_path</th>\n",
       "      <th>label_path</th>\n",
       "    </tr>\n",
       "  </thead>\n",
       "  <tbody>\n",
       "    <tr>\n",
       "      <th>0</th>\n",
       "      <td>adwp</td>\n",
       "      <td>Chifunfu</td>\n",
       "      <td>2020-04-29T08:20:47Z</td>\n",
       "      <td>az://./train_features/adwp</td>\n",
       "      <td>False</td>\n",
       "      <td>data/train_features/adwp/B02.tif</td>\n",
       "      <td>data/train_features/adwp/B03.tif</td>\n",
       "      <td>data/train_features/adwp/B04.tif</td>\n",
       "      <td>data/train_features/adwp/B08.tif</td>\n",
       "      <td>data/train_labels/adwp.tif</td>\n",
       "    </tr>\n",
       "  </tbody>\n",
       "</table>\n",
       "</div>"
      ],
      "text/plain": [
       "  chip_id  location              datetime                   cloudpath  \\\n",
       "0    adwp  Chifunfu  2020-04-29T08:20:47Z  az://./train_features/adwp   \n",
       "\n",
       "   is_valid                          B02_path  \\\n",
       "0     False  data/train_features/adwp/B02.tif   \n",
       "\n",
       "                           B03_path                          B04_path  \\\n",
       "0  data/train_features/adwp/B03.tif  data/train_features/adwp/B04.tif   \n",
       "\n",
       "                           B08_path                  label_path  \n",
       "0  data/train_features/adwp/B08.tif  data/train_labels/adwp.tif  "
      ]
     },
     "execution_count": 4,
     "metadata": {},
     "output_type": "execute_result"
    }
   ],
   "source": [
    "df = pd.read_csv(DATA_PATH / 'train_ready.csv')\n",
    "df.head(1)"
   ]
  },
  {
   "cell_type": "code",
   "execution_count": 5,
   "id": "c42faabd",
   "metadata": {},
   "outputs": [],
   "source": [
    "IMG_SIZE = 512\n",
    "BS = 3\n",
    "DEBUG = None ## Size of development set or None"
   ]
  },
  {
   "cell_type": "code",
   "execution_count": 6,
   "id": "039c9437",
   "metadata": {},
   "outputs": [],
   "source": [
    "class Chips:\n",
    "    def __init__(self, src_path, df_path, debug = None):\n",
    "        self.src_path = src_path\n",
    "        self.debug = debug\n",
    "        self.names = self._get_chips(src_path)\n",
    "        self.df = pd.read_csv(df_path)\n",
    "        self.train_idx = self.names.argwhere(self._is_valid, negate = True)\n",
    "        self.valid_idx = self.names.argwhere(self._is_valid)\n",
    "        assert(len(self.train_idx) + len(self.valid_idx) == len(self.names))\n",
    "        assert(len(set(self.train_idx).intersection(set(self.valid_idx))) == 0)\n",
    "    \n",
    "    def _is_valid(self, chip):\n",
    "        return self.df.loc[self.df['chip_id'] == chip, 'is_valid'].item()\n",
    "    \n",
    "    def _get_chips(self, path):\n",
    "        potential_chips = list(path.iterdir())\n",
    "        chips_paths = [chip for chip in potential_chips if chip.is_dir()]\n",
    "        if self.debug:\n",
    "            chips_paths = random.choices(chips_paths, k = self.debug)\n",
    "        return L(chips_paths).attrgot('name')\n",
    "    \n",
    "    def describe(self):\n",
    "        print(f'Number of validation items: {len(self.valid_idx)}, number of training items: {len(self.train_idx)}\\nTotal number of items: {len(self.names)}')\n",
    "        \n",
    "    def get_train_chips(self):\n",
    "        return self.names[self.train_idx]\n",
    "    \n",
    "    def get_valid_chips(self):\n",
    "        return self.names[self.valid_idx]\n",
    "    \n",
    "    def get_splits(self):\n",
    "        return [self.train_idx, self.valid_idx]"
   ]
  },
  {
   "cell_type": "code",
   "execution_count": 7,
   "id": "5459e46a",
   "metadata": {},
   "outputs": [],
   "source": [
    "class ChipDataset(torch.utils.data.Dataset):\n",
    "    def __init__(self, files, is_valid = False):\n",
    "        self.files = files\n",
    "        self.is_valid = is_valid\n",
    "        \n",
    "    def __getitem__(self, i):\n",
    "        chip = self.files[i]\n",
    "        img = self._get_multiband_img(chip)\n",
    "        mask = self._get_mask(chip)\n",
    "        return (img, mask)\n",
    "    \n",
    "    def __len__(self): \n",
    "        return len(self.files)\n",
    "    \n",
    "    def _get_multiband_img(self, chip):\n",
    "        blue  = self._get_array(chip, 'B02')\n",
    "        green = self._get_array(chip, 'B03')\n",
    "        red   = self._get_array(chip, 'B04')\n",
    "        infra = self._get_array(chip, 'B08')\n",
    "        stack = np.stack([blue, green, red, infra], axis = -1)\n",
    "        return TensorImage(stack).float()\n",
    "    \n",
    "    @staticmethod\n",
    "    def _get_mask(chip):\n",
    "        fn = (LABEL_PATH / chip).with_suffix('.tif')\n",
    "        return TensorImage(Image.open(fn)).float()\n",
    "    \n",
    "    @staticmethod\n",
    "    def _get_array(chip, band):\n",
    "        fn = (TRAIN_PATH / chip /band).with_suffix('.tif')\n",
    "        if fn.exists():\n",
    "            return (np.array(Image.open(fn)) / 27000)\n",
    "        else:\n",
    "            return np.zeros((512, 512))"
   ]
  },
  {
   "cell_type": "code",
   "execution_count": 8,
   "id": "c76af359",
   "metadata": {},
   "outputs": [
    {
     "name": "stdout",
     "output_type": "stream",
     "text": [
      "Number of validation items: 2442, number of training items: 9306\n",
      "Total number of items: 11748\n"
     ]
    }
   ],
   "source": [
    "chips = Chips(TRAIN_PATH, DATA_PATH / 'train_ready.csv', debug = DEBUG)\n",
    "chips.describe()"
   ]
  },
  {
   "cell_type": "code",
   "execution_count": 9,
   "id": "f99914c3",
   "metadata": {},
   "outputs": [],
   "source": [
    "augs_list = A.Compose(\n",
    "    [\n",
    "     A.Flip(),\n",
    "     #A.RandomCrop(440, 440)\n",
    "    ]\n",
    ")\n",
    "\n",
    "class SegmentationAlbumentationsTransform(ItemTransform):\n",
    "    def __init__(self, aug): self.aug = aug\n",
    "    def encodes(self, x):\n",
    "        augs = []\n",
    "        for img,mask in x:\n",
    "            aug = self.aug(image=np.array(img), mask=np.array(mask))\n",
    "            augs.append((TensorImage(aug[\"image\"].transpose(2,0,1)), TensorMask(aug[\"mask\"])))\n",
    "        return augs\n",
    "    \n",
    "aug_tfms = SegmentationAlbumentationsTransform(augs_list)"
   ]
  },
  {
   "cell_type": "code",
   "execution_count": 10,
   "id": "6919e95a",
   "metadata": {},
   "outputs": [],
   "source": [
    "train_ds = ChipDataset(chips.get_train_chips())\n",
    "valid_ds = ChipDataset(chips.get_valid_chips(), True)\n",
    "\n",
    "dls = DataLoaders.from_dsets(\n",
    "    train_ds, \n",
    "    valid_ds, \n",
    "    bs = BS, \n",
    "    num_workers = 6, \n",
    "    pin_memory = True,\n",
    "    device = 'cuda',\n",
    "    #after_item = []\n",
    "    before_batch = [aug_tfms]\n",
    "    #after_batch = []\n",
    ")"
   ]
  },
  {
   "cell_type": "code",
   "execution_count": 11,
   "id": "2999001b",
   "metadata": {},
   "outputs": [
    {
     "name": "stdout",
     "output_type": "stream",
     "text": [
      "torch.Size([3, 4, 512, 512]) torch.Size([3, 512, 512])\n"
     ]
    }
   ],
   "source": [
    "b = dls.one_batch()\n",
    "print(b[0].shape, b[1].shape)"
   ]
  },
  {
   "cell_type": "code",
   "execution_count": 12,
   "id": "48ca40ab",
   "metadata": {},
   "outputs": [],
   "source": [
    "class CrossLossLong(CrossEntropyLossFlat):\n",
    "    def __call__(self, inp, targ, **kwargs):\n",
    "        inp,targ  = map(self._contiguous, (inp,targ))\n",
    "        targ = targ.long()\n",
    "        if self.floatify and targ.dtype!=torch.float16: targ = targ.float()\n",
    "        if targ.dtype in [torch.int8, torch.int16, torch.int32]: targ = targ.long()\n",
    "        if self.flatten: inp = inp.view(-1,inp.shape[-1]) if self.is_2d else inp.view(-1)\n",
    "        return self.func.__call__(inp, targ.view(-1) if self.flatten else targ, **kwargs)"
   ]
  },
  {
   "cell_type": "code",
   "execution_count": 13,
   "id": "e378ec1c",
   "metadata": {},
   "outputs": [],
   "source": [
    "n_channels, *img_size = dls.one_batch()[0].shape[-3:]\n",
    "\n",
    "model = create_unet_model(\n",
    "    arch = resnet34,\n",
    "    n_out = 2,\n",
    "    img_size = img_size,\n",
    "    n_in = n_channels\n",
    ")\n",
    "\n",
    "_default_meta    = {'cut':None, 'split':default_split}\n",
    "meta = model_meta.get(resnet34, _default_meta)\n",
    "\n",
    "learn = Learner(\n",
    "    dls,\n",
    "    model,\n",
    "    #loss_func = CrossEntropyLossFlat(axis = 1),\n",
    "    loss_func = CrossLossLong(axis = 1),\n",
    "    metrics = [Dice, JaccardCoeff],\n",
    "    splitter = meta['split']\n",
    ")\n",
    "\n",
    "learn.freeze()"
   ]
  },
  {
   "cell_type": "code",
   "execution_count": 14,
   "id": "f101c1a6",
   "metadata": {},
   "outputs": [
    {
     "data": {
      "text/html": [],
      "text/plain": [
       "<IPython.core.display.HTML object>"
      ]
     },
     "metadata": {},
     "output_type": "display_data"
    },
    {
     "data": {
      "text/plain": [
       "SuggestedLRs(valley=0.0004786300996784121)"
      ]
     },
     "execution_count": 14,
     "metadata": {},
     "output_type": "execute_result"
    },
    {
     "data": {
      "image/png": "[encoded data removed]",
      "text/plain": [
       "<Figure size 432x288 with 1 Axes>"
      ]
     },
     "metadata": {
      "needs_background": "light"
     },
     "output_type": "display_data"
    }
   ],
   "source": [
    "learn.lr_find()"
   ]
  },
  {
   "cell_type": "code",
   "execution_count": null,
   "id": "f462a901",
   "metadata": {},
   "outputs": [
    {
     "data": {
      "text/html": [
       "<table border=\"1\" class=\"dataframe\">\n",
       "  <thead>\n",
       "    <tr style=\"text-align: left;\">\n",
       "      <th>epoch</th>\n",
       "      <th>train_loss</th>\n",
       "      <th>valid_loss</th>\n",
       "      <th>dice</th>\n",
       "      <th>jaccard_coeff</th>\n",
       "      <th>time</th>\n",
       "    </tr>\n",
       "  </thead>\n",
       "  <tbody>\n",
       "    <tr>\n",
       "      <td>0</td>\n",
       "      <td>0.340051</td>\n",
       "      <td>0.269438</td>\n",
       "      <td>0.930164</td>\n",
       "      <td>0.869446</td>\n",
       "      <td>22:29</td>\n",
       "    </tr>\n",
       "  </tbody>\n",
       "</table>"
      ],
      "text/plain": [
       "<IPython.core.display.HTML object>"
      ]
     },
     "metadata": {},
     "output_type": "display_data"
    },
    {
     "data": {
      "text/html": [
       "\n",
       "    <div>\n",
       "        <style>\n",
       "            /* Turns off some styling */\n",
       "            progress {\n",
       "                /* gets rid of default border in Firefox and Opera. */\n",
       "                border: none;\n",
       "                /* Needs to be in here for Safari polyfill so background images work as expected. */\n",
       "                background-size: auto;\n",
       "            }\n",
       "            .progress-bar-interrupted, .progress-bar-interrupted::-webkit-progress-bar {\n",
       "                background: #F44336;\n",
       "            }\n",
       "        </style>\n",
       "      <progress value='4' class='' max='5' style='width:300px; height:20px; vertical-align: middle;'></progress>\n",
       "      80.00% [4/5 1:36:28<24:07]\n",
       "    </div>\n",
       "    \n",
       "<table border=\"1\" class=\"dataframe\">\n",
       "  <thead>\n",
       "    <tr style=\"text-align: left;\">\n",
       "      <th>epoch</th>\n",
       "      <th>train_loss</th>\n",
       "      <th>valid_loss</th>\n",
       "      <th>dice</th>\n",
       "      <th>jaccard_coeff</th>\n",
       "      <th>time</th>\n",
       "    </tr>\n",
       "  </thead>\n",
       "  <tbody>\n",
       "    <tr>\n",
       "      <td>0</td>\n",
       "      <td>0.269811</td>\n",
       "      <td>0.196104</td>\n",
       "      <td>0.942309</td>\n",
       "      <td>0.890912</td>\n",
       "      <td>23:31</td>\n",
       "    </tr>\n",
       "    <tr>\n",
       "      <td>1</td>\n",
       "      <td>0.263490</td>\n",
       "      <td>0.231404</td>\n",
       "      <td>0.937318</td>\n",
       "      <td>0.882030</td>\n",
       "      <td>23:31</td>\n",
       "    </tr>\n",
       "    <tr>\n",
       "      <td>2</td>\n",
       "      <td>0.248429</td>\n",
       "      <td>0.182504</td>\n",
       "      <td>0.944396</td>\n",
       "      <td>0.894649</td>\n",
       "      <td>24:30</td>\n",
       "    </tr>\n",
       "    <tr>\n",
       "      <td>3</td>\n",
       "      <td>0.207560</td>\n",
       "      <td>0.170043</td>\n",
       "      <td>0.948156</td>\n",
       "      <td>0.901423</td>\n",
       "      <td>24:55</td>\n",
       "    </tr>\n",
       "  </tbody>\n",
       "</table><p>\n",
       "\n",
       "    <div>\n",
       "        <style>\n",
       "            /* Turns off some styling */\n",
       "            progress {\n",
       "                /* gets rid of default border in Firefox and Opera. */\n",
       "                border: none;\n",
       "                /* Needs to be in here for Safari polyfill so background images work as expected. */\n",
       "                background-size: auto;\n",
       "            }\n",
       "            .progress-bar-interrupted, .progress-bar-interrupted::-webkit-progress-bar {\n",
       "                background: #F44336;\n",
       "            }\n",
       "        </style>\n",
       "      <progress value='1248' class='' max='3102' style='width:300px; height:20px; vertical-align: middle;'></progress>\n",
       "      40.23% [1248/3102 09:06<13:32 0.2218]\n",
       "    </div>\n",
       "    "
      ],
      "text/plain": [
       "<IPython.core.display.HTML object>"
      ]
     },
     "metadata": {},
     "output_type": "display_data"
    }
   ],
   "source": [
    "learn.fine_tune(5, 1e-3)"
   ]
  },
  {
   "cell_type": "markdown",
   "id": "be89473c",
   "metadata": {},
   "source": [
    "# Time overview:\n",
    "* without tfms: 22:30 min | __baseline__\n",
    "* with flip transforms: 8:15min | but something is wrong"
   ]
  },
  {
   "cell_type": "code",
   "execution_count": null,
   "id": "50308578",
   "metadata": {},
   "outputs": [],
   "source": [
    "#learn.fine_tune(5, 1e-4)"
   ]
  },
  {
   "cell_type": "code",
   "execution_count": null,
   "id": "e6407c57",
   "metadata": {},
   "outputs": [],
   "source": [
    "#result_metric = None\n",
    "#learn.export(f'res34_{IMG_SIZE}_j{905}')"
   ]
  }
 ],
 "metadata": {
  "kernelspec": {
   "display_name": "fastai",
   "language": "python",
   "name": "fastai"
  },
  "language_info": {
   "codemirror_mode": {
    "name": "ipython",
    "version": 3
   },
   "file_extension": ".py",
   "mimetype": "text/x-python",
   "name": "python",
   "nbconvert_exporter": "python",
   "pygments_lexer": "ipython3",
   "version": "3.8.8"
  }
 },
 "nbformat": 4,
 "nbformat_minor": 5
}
