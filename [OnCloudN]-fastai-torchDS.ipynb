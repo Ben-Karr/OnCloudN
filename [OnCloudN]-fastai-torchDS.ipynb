{
 "cells": [
  {
   "cell_type": "code",
   "execution_count": 1,
   "id": "b0dd080c",
   "metadata": {},
   "outputs": [],
   "source": [
    "from fastai.vision.all import *\n",
    "from tqdm import tqdm\n",
    "import albumentations as A\n",
    "from albumentations import functional as F\n",
    "\n",
    "import torch\n",
    "torch.backends.cudnn.benchmark = True"
   ]
  },
  {
   "cell_type": "code",
   "execution_count": 2,
   "id": "50b10f69",
   "metadata": {},
   "outputs": [],
   "source": [
    "DATA_PATH = Path('data')\n",
    "TRAIN_PATH = DATA_PATH / 'train_features'\n",
    "LABEL_PATH = DATA_PATH / 'train_labels'"
   ]
  },
  {
   "cell_type": "code",
   "execution_count": 3,
   "id": "3c78f441",
   "metadata": {},
   "outputs": [
    {
     "data": {
      "text/html": [
       "<div>\n",
       "<style scoped>\n",
       "    .dataframe tbody tr th:only-of-type {\n",
       "        vertical-align: middle;\n",
       "    }\n",
       "\n",
       "    .dataframe tbody tr th {\n",
       "        vertical-align: top;\n",
       "    }\n",
       "\n",
       "    .dataframe thead th {\n",
       "        text-align: right;\n",
       "    }\n",
       "</style>\n",
       "<table border=\"1\" class=\"dataframe\">\n",
       "  <thead>\n",
       "    <tr style=\"text-align: right;\">\n",
       "      <th></th>\n",
       "      <th>chip_id</th>\n",
       "      <th>location</th>\n",
       "      <th>datetime</th>\n",
       "      <th>cloudpath</th>\n",
       "      <th>is_valid</th>\n",
       "      <th>B02_path</th>\n",
       "      <th>B03_path</th>\n",
       "      <th>B04_path</th>\n",
       "      <th>B08_path</th>\n",
       "      <th>label_path</th>\n",
       "    </tr>\n",
       "  </thead>\n",
       "  <tbody>\n",
       "    <tr>\n",
       "      <th>0</th>\n",
       "      <td>adwp</td>\n",
       "      <td>Chifunfu</td>\n",
       "      <td>2020-04-29T08:20:47Z</td>\n",
       "      <td>az://./train_features/adwp</td>\n",
       "      <td>False</td>\n",
       "      <td>data/train_features/adwp/B02.tif</td>\n",
       "      <td>data/train_features/adwp/B03.tif</td>\n",
       "      <td>data/train_features/adwp/B04.tif</td>\n",
       "      <td>data/train_features/adwp/B08.tif</td>\n",
       "      <td>data/train_labels/adwp.tif</td>\n",
       "    </tr>\n",
       "  </tbody>\n",
       "</table>\n",
       "</div>"
      ],
      "text/plain": [
       "  chip_id  location              datetime                   cloudpath  \\\n",
       "0    adwp  Chifunfu  2020-04-29T08:20:47Z  az://./train_features/adwp   \n",
       "\n",
       "   is_valid                          B02_path  \\\n",
       "0     False  data/train_features/adwp/B02.tif   \n",
       "\n",
       "                           B03_path                          B04_path  \\\n",
       "0  data/train_features/adwp/B03.tif  data/train_features/adwp/B04.tif   \n",
       "\n",
       "                           B08_path                  label_path  \n",
       "0  data/train_features/adwp/B08.tif  data/train_labels/adwp.tif  "
      ]
     },
     "execution_count": 3,
     "metadata": {},
     "output_type": "execute_result"
    }
   ],
   "source": [
    "df = pd.read_csv(DATA_PATH / 'train_ready.csv')\n",
    "df.head(1)"
   ]
  },
  {
   "cell_type": "code",
   "execution_count": 4,
   "id": "c42faabd",
   "metadata": {},
   "outputs": [],
   "source": [
    "IMG_SIZE = 512\n",
    "BS = 2\n",
    "DEBUG = False ## Size of development set or None"
   ]
  },
  {
   "cell_type": "code",
   "execution_count": 5,
   "id": "039c9437",
   "metadata": {},
   "outputs": [],
   "source": [
    "class Chips:\n",
    "    def __init__(self, src_path, df_src, debug = None):\n",
    "        self.src_path = src_path\n",
    "        self.df = self._get_df(df_src)\n",
    "        self.names = self._get_names(debug)\n",
    "       \n",
    "    def _is_valid(self, chip):\n",
    "        return self.df.loc[self.df['chip_id'] == chip, 'is_valid'].item()\n",
    "    \n",
    "    def _get_names(self, debug):\n",
    "        if debug:\n",
    "            self.df = self.df.sample(n=debug)\n",
    "        return L(self.df['chip_id'].tolist())\n",
    "    \n",
    "    def _get_df(self, src):\n",
    "        if isinstance(src, pd.DataFrame):\n",
    "            return src\n",
    "        elif isinstance(src, (Path, str)):\n",
    "            return pd.read_csv(src)\n",
    "        else:\n",
    "            print('Can not load dataframe, should be pd.DataFrame or path to .csv')\n",
    "        \n",
    "    def get_paths(self):\n",
    "        return self.names.map(lambda x: (self.src_path / x))\n",
    "    \n",
    "    def get_train_chips(self):\n",
    "        self.train_idx = self.names.argwhere(self._is_valid, negate = True)\n",
    "        return self.names[self.train_idx]\n",
    "    \n",
    "    def get_valid_chips(self):\n",
    "        self.valid_idx = self.names.argwhere(self._is_valid)\n",
    "        return self.names[self.valid_idx]\n",
    "    \n",
    "    def get_splits(self):\n",
    "        return [self.train_idx, self.valid_idx]"
   ]
  },
  {
   "cell_type": "code",
   "execution_count": 6,
   "id": "5459e46a",
   "metadata": {},
   "outputs": [],
   "source": [
    "class ChipDataset(torch.utils.data.Dataset):\n",
    "    def __init__(self, files, is_valid = False, is_test = False):\n",
    "        self.files = files\n",
    "        self.is_valid = is_valid\n",
    "        self.is_test = is_test\n",
    "        \n",
    "    def __getitem__(self, i):\n",
    "        chip = self.files[i]\n",
    "        img = self._get_multiband_img(chip)\n",
    "        if self.is_test:\n",
    "            return img\n",
    "        else: \n",
    "            mask = self._get_mask(chip)\n",
    "            return (img, mask)\n",
    "    \n",
    "    def __len__(self): \n",
    "        return len(self.files)\n",
    "    \n",
    "    def _get_multiband_img(self, chip):\n",
    "        blue  = self._get_array(chip, 'B02')\n",
    "        green = self._get_array(chip, 'B03')\n",
    "        red   = self._get_array(chip, 'B04')\n",
    "        infra = self._get_array(chip, 'B08')\n",
    "        stack = np.stack([blue, green, red, infra], axis = -1)\n",
    "        return stack\n",
    "    \n",
    "    @staticmethod\n",
    "    def _get_mask(chip):\n",
    "        fn = (LABEL_PATH / chip).with_suffix('.tif')\n",
    "        return np.array(Image.open(fn))\n",
    "    \n",
    "    @staticmethod\n",
    "    def _get_array(chip, band):\n",
    "        fn = (TRAIN_PATH / chip /band).with_suffix('.tif')\n",
    "        if fn.exists():\n",
    "            return (np.array(Image.open(fn)) / 27000)\n",
    "        else:\n",
    "            return np.zeros((512, 512))\n",
    "        \n",
    "    @classmethod    \n",
    "    def new_empty(cls):\n",
    "        return cls([])"
   ]
  },
  {
   "cell_type": "code",
   "execution_count": 7,
   "id": "c14acd8c",
   "metadata": {},
   "outputs": [],
   "source": [
    "class SegmentationAlbumentationsTransform(ItemTransform):\n",
    "    split_idx = 0\n",
    "    def __init__(self, aug): \n",
    "        self.aug = aug\n",
    "    def encodes(self, x):\n",
    "        augs = []\n",
    "        for img,mask in x:\n",
    "            augs.append(tuple(self.aug(image=img, mask=mask).values()))\n",
    "        return augs\n",
    "    \n",
    "class FormatTransform(ItemTransform):\n",
    "    def __init__(self, return_type):\n",
    "        self.return_type = return_type\n",
    "    \n",
    "    def encodes(self, x):\n",
    "        if isinstance(x, torch.Tensor):\n",
    "            return TensorImage(x.permute(0,3,1,2)).float()\n",
    "        return self.return_type([TensorImage(x[0].permute(0,3,1,2)).float(), TensorMask(x[1]).long()])\n",
    "\n",
    "augs_list = A.Compose([\n",
    "     A.Flip(),\n",
    "     #A.RandomCrop(440, 440),\n",
    "    ])\n",
    "\n",
    "aug_tfms = SegmentationAlbumentationsTransform(augs_list)\n",
    "format_tfm = FormatTransform(tuple)"
   ]
  },
  {
   "cell_type": "markdown",
   "id": "77dc68c3",
   "metadata": {},
   "source": [
    "---\n",
    "# Test\n",
    "---"
   ]
  },
  {
   "cell_type": "code",
   "execution_count": 8,
   "id": "d35ac29c",
   "metadata": {},
   "outputs": [],
   "source": [
    "#test_ds = ChipDataset(chips.get_train_chips())\n",
    "#\n",
    "#b = []\n",
    "#for i in range(3):\n",
    "#    b.append(test_ds[i])\n",
    "#    \n",
    "#augs = aug_tfms(b)\n",
    "#\n",
    "#augs[0][0].shape"
   ]
  },
  {
   "cell_type": "markdown",
   "id": "2b841991",
   "metadata": {},
   "source": [
    "---\n",
    "# End\n",
    "---"
   ]
  },
  {
   "cell_type": "markdown",
   "id": "53249387",
   "metadata": {},
   "source": [
    "----\n",
    "# Test Preds\n",
    "---"
   ]
  },
  {
   "cell_type": "code",
   "execution_count": 9,
   "id": "1de36fbc",
   "metadata": {},
   "outputs": [],
   "source": [
    "#learn_predictor = load_learner('test', cpu = False)\n",
    "#test_chips = Chips(TRAIN_PATH, DATA_PATH / 'train_ready.csv', debug = 100)\n",
    "#test_ds = ChipDataset(test_chips.names)\n",
    "#test_dls = learn_predictor.dls.test_dl(test_ds, bs = 8)\n",
    "#\n",
    "#b = test_dls.one_batch()\n",
    "#\n",
    "#with torch.no_grad():\n",
    "#    preds = learn.model(b)\n",
    "#\n",
    "#preds.shape"
   ]
  },
  {
   "cell_type": "markdown",
   "id": "a9f9d151",
   "metadata": {},
   "source": [
    "----\n",
    "# End\n",
    "---"
   ]
  },
  {
   "cell_type": "code",
   "execution_count": 10,
   "id": "c76af359",
   "metadata": {},
   "outputs": [],
   "source": [
    "chips = Chips(TRAIN_PATH, DATA_PATH / 'train_ready.csv', debug = DEBUG)\n",
    "train_ds = ChipDataset(chips.get_train_chips())\n",
    "valid_ds = ChipDataset(chips.get_valid_chips(), True)"
   ]
  },
  {
   "cell_type": "code",
   "execution_count": 11,
   "id": "6919e95a",
   "metadata": {},
   "outputs": [],
   "source": [
    "dls = DataLoaders.from_dsets(\n",
    "    train_ds, \n",
    "    valid_ds, \n",
    "    bs = BS, \n",
    "    num_workers = 6, \n",
    "    pin_memory = True,\n",
    "    device = 'cuda',\n",
    "    #after_item = [],\n",
    "    before_batch = [aug_tfms],\n",
    "    after_batch = [format_tfm],\n",
    ")"
   ]
  },
  {
   "cell_type": "code",
   "execution_count": 12,
   "id": "2999001b",
   "metadata": {},
   "outputs": [],
   "source": [
    "#b = dls.one_batch()\n",
    "#print(b[0].shape, b[1].shape)\n",
    "#print(type(b[0]))"
   ]
  },
  {
   "cell_type": "code",
   "execution_count": 13,
   "id": "e378ec1c",
   "metadata": {},
   "outputs": [],
   "source": [
    "n_channels, *img_size = dls.one_batch()[0].shape[-3:]\n",
    "\n",
    "model = create_unet_model(\n",
    "    arch = resnet34,\n",
    "    n_out = 2,\n",
    "    img_size = img_size,\n",
    "    n_in = n_channels\n",
    ")\n",
    "\n",
    "_default_meta    = {'cut':None, 'split':default_split}\n",
    "meta = model_meta.get(resnet34, _default_meta)\n",
    "\n",
    "learn = Learner(\n",
    "    dls,\n",
    "    model,\n",
    "    loss_func = CrossEntropyLossFlat(axis = 1),\n",
    "    metrics = [Dice, JaccardCoeff],\n",
    "    splitter = meta['split']\n",
    ")\n",
    "\n",
    "learn.freeze()"
   ]
  },
  {
   "cell_type": "code",
   "execution_count": 14,
   "id": "f101c1a6",
   "metadata": {},
   "outputs": [
    {
     "data": {
      "text/html": [],
      "text/plain": [
       "<IPython.core.display.HTML object>"
      ]
     },
     "metadata": {},
     "output_type": "display_data"
    },
    {
     "data": {
      "text/plain": [
       "SuggestedLRs(valley=3.0199516913853586e-05)"
      ]
     },
     "execution_count": 14,
     "metadata": {},
     "output_type": "execute_result"
    },
    {
     "data": {
      "image/png": "[encoded data removed]",
      "text/plain": [
       "<Figure size 432x288 with 1 Axes>"
      ]
     },
     "metadata": {
      "needs_background": "light"
     },
     "output_type": "display_data"
    }
   ],
   "source": [
    "learn.lr_find()"
   ]
  },
  {
   "cell_type": "code",
   "execution_count": 15,
   "id": "3445caae",
   "metadata": {},
   "outputs": [
    {
     "data": {
      "text/html": [
       "<table border=\"1\" class=\"dataframe\">\n",
       "  <thead>\n",
       "    <tr style=\"text-align: left;\">\n",
       "      <th>epoch</th>\n",
       "      <th>train_loss</th>\n",
       "      <th>valid_loss</th>\n",
       "      <th>dice</th>\n",
       "      <th>jaccard_coeff</th>\n",
       "      <th>time</th>\n",
       "    </tr>\n",
       "  </thead>\n",
       "  <tbody>\n",
       "    <tr>\n",
       "      <td>0</td>\n",
       "      <td>0.379550</td>\n",
       "      <td>0.274480</td>\n",
       "      <td>0.905837</td>\n",
       "      <td>0.827881</td>\n",
       "      <td>33:10</td>\n",
       "    </tr>\n",
       "  </tbody>\n",
       "</table>"
      ],
      "text/plain": [
       "<IPython.core.display.HTML object>"
      ]
     },
     "metadata": {},
     "output_type": "display_data"
    },
    {
     "data": {
      "text/html": [
       "<table border=\"1\" class=\"dataframe\">\n",
       "  <thead>\n",
       "    <tr style=\"text-align: left;\">\n",
       "      <th>epoch</th>\n",
       "      <th>train_loss</th>\n",
       "      <th>valid_loss</th>\n",
       "      <th>dice</th>\n",
       "      <th>jaccard_coeff</th>\n",
       "      <th>time</th>\n",
       "    </tr>\n",
       "  </thead>\n",
       "  <tbody>\n",
       "    <tr>\n",
       "      <td>0</td>\n",
       "      <td>0.343553</td>\n",
       "      <td>0.217423</td>\n",
       "      <td>0.933232</td>\n",
       "      <td>0.874821</td>\n",
       "      <td>34:23</td>\n",
       "    </tr>\n",
       "    <tr>\n",
       "      <td>1</td>\n",
       "      <td>0.296852</td>\n",
       "      <td>0.238162</td>\n",
       "      <td>0.920650</td>\n",
       "      <td>0.852967</td>\n",
       "      <td>34:24</td>\n",
       "    </tr>\n",
       "    <tr>\n",
       "      <td>2</td>\n",
       "      <td>0.224495</td>\n",
       "      <td>0.192349</td>\n",
       "      <td>0.937484</td>\n",
       "      <td>0.882324</td>\n",
       "      <td>34:23</td>\n",
       "    </tr>\n",
       "    <tr>\n",
       "      <td>3</td>\n",
       "      <td>0.231438</td>\n",
       "      <td>0.185783</td>\n",
       "      <td>0.943883</td>\n",
       "      <td>0.893729</td>\n",
       "      <td>34:19</td>\n",
       "    </tr>\n",
       "    <tr>\n",
       "      <td>4</td>\n",
       "      <td>0.198620</td>\n",
       "      <td>0.181935</td>\n",
       "      <td>0.943409</td>\n",
       "      <td>0.892880</td>\n",
       "      <td>34:19</td>\n",
       "    </tr>\n",
       "  </tbody>\n",
       "</table>"
      ],
      "text/plain": [
       "<IPython.core.display.HTML object>"
      ]
     },
     "metadata": {},
     "output_type": "display_data"
    }
   ],
   "source": [
    "learn.fine_tune(5, 4e-5)"
   ]
  },
  {
   "cell_type": "code",
   "execution_count": null,
   "id": "a0e10e4a",
   "metadata": {},
   "outputs": [],
   "source": [
    "#learn.save('tmp_bu')"
   ]
  },
  {
   "cell_type": "code",
   "execution_count": 16,
   "id": "e6407c57",
   "metadata": {
    "scrolled": true
   },
   "outputs": [],
   "source": [
    "learn.export(f'res34_{IMG_SIZE}_j{892}_v4')"
   ]
  }
 ],
 "metadata": {
  "kernelspec": {
   "display_name": "fastai",
   "language": "python",
   "name": "fastai"
  },
  "language_info": {
   "codemirror_mode": {
    "name": "ipython",
    "version": 3
   },
   "file_extension": ".py",
   "mimetype": "text/x-python",
   "name": "python",
   "nbconvert_exporter": "python",
   "pygments_lexer": "ipython3",
   "version": "3.8.8"
  }
 },
 "nbformat": 4,
 "nbformat_minor": 5
}
